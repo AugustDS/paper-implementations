{
 "cells": [
  {
   "cell_type": "code",
   "execution_count": 1,
   "metadata": {
    "executionInfo": {
     "elapsed": 1007,
     "status": "ok",
     "timestamp": 1602102419341,
     "user": {
      "displayName": "August DuMont Schütte",
      "photoUrl": "",
      "userId": "15031524827232593617"
     },
     "user_tz": -120
    },
    "id": "148Tl5yfrHW6"
   },
   "outputs": [],
   "source": [
    "import numpy as np\n",
    "import torch\n",
    "import torchvision as tvis\n",
    "import torch.nn as nn\n",
    "from torchsummary import summary\n",
    "import matplotlib.pyplot as plt\n",
    "from torchvision import datasets, transforms\n",
    "from torch.utils.data.sampler import SubsetRandomSampler\n",
    "import torch.nn.functional as F\n"
   ]
  },
  {
   "cell_type": "code",
   "execution_count": 2,
   "metadata": {
    "colab": {
     "base_uri": "https://localhost:8080/"
    },
    "executionInfo": {
     "elapsed": 1382,
     "status": "ok",
     "timestamp": 1602102419903,
     "user": {
      "displayName": "August DuMont Schütte",
      "photoUrl": "",
      "userId": "15031524827232593617"
     },
     "user_tz": -120
    },
    "id": "EyDZFbeDrJ05",
    "outputId": "5a2e6971-3bb2-4492-cd56-c18efaf33ff2"
   },
   "outputs": [
    {
     "name": "stdout",
     "output_type": "stream",
     "text": [
      "Drive already mounted at /content/gdrive; to attempt to forcibly remount, call drive.mount(\"/content/gdrive\", force_remount=True).\n"
     ]
    },
    {
     "data": {
      "text/plain": [
       "True"
      ]
     },
     "execution_count": 2,
     "metadata": {
      "tags": []
     },
     "output_type": "execute_result"
    }
   ],
   "source": [
    "from google.colab import drive\n",
    "drive.mount('/content/gdrive')\n",
    "torch.cuda.is_available()"
   ]
  },
  {
   "cell_type": "code",
   "execution_count": 3,
   "metadata": {
    "executionInfo": {
     "elapsed": 1236,
     "status": "ok",
     "timestamp": 1602102419903,
     "user": {
      "displayName": "August DuMont Schütte",
      "photoUrl": "",
      "userId": "15031524827232593617"
     },
     "user_tz": -120
    },
    "id": "i6oz1G7-rJ5l"
   },
   "outputs": [],
   "source": [
    "batch_size = 200\n",
    "input_dimension = int(28*28)"
   ]
  },
  {
   "cell_type": "code",
   "execution_count": 4,
   "metadata": {
    "executionInfo": {
     "elapsed": 1053,
     "status": "ok",
     "timestamp": 1602102419904,
     "user": {
      "displayName": "August DuMont Schütte",
      "photoUrl": "",
      "userId": "15031524827232593617"
     },
     "user_tz": -120
    },
    "id": "hivzYMw0xwtY"
   },
   "outputs": [],
   "source": [
    "data_dir = \"./gdrive/My Drive/coding_projects/data\"\n",
    "\n",
    "def get_train_valid_loader(data_dir,\n",
    "                           batch_size,\n",
    "                           random_seed,\n",
    "                           valid_size=0.02,\n",
    "                           shuffle=True,\n",
    "                           num_workers=2,\n",
    "                           pin_memory=True):\n",
    "\n",
    "    error_msg = \"[!] valid_size should be in the range [0, 1].\"\n",
    "    assert ((valid_size >= 0) and (valid_size <= 1)), error_msg\n",
    "\n",
    "\n",
    "    # define transforms\n",
    "    valid_transform = transforms.Compose([\n",
    "            transforms.ToTensor()        ])\n",
    "    train_transform = transforms.Compose([\n",
    "            transforms.ToTensor()\n",
    "        ])\n",
    "\n",
    "    # load the dataset\n",
    "    train_dataset = datasets.MNIST(root=data_dir, train=True, \n",
    "                download=False, transform=train_transform)\n",
    "\n",
    "    valid_dataset = datasets.MNIST(root=data_dir, train=True, \n",
    "                download=False, transform=valid_transform)\n",
    "\n",
    "    num_train = len(train_dataset)\n",
    "    indices = list(range(num_train))\n",
    "    split = int(np.floor(valid_size * num_train))\n",
    "\n",
    "    if shuffle == True:\n",
    "        np.random.seed(random_seed)\n",
    "        np.random.shuffle(indices)\n",
    "\n",
    "    train_idx, valid_idx = indices[split:], indices[:split]\n",
    "\n",
    "    train_sampler = SubsetRandomSampler(train_idx)\n",
    "    valid_sampler = SubsetRandomSampler(valid_idx)\n",
    "\n",
    "    train_loader = torch.utils.data.DataLoader(train_dataset, \n",
    "                    batch_size=batch_size, sampler=train_sampler, \n",
    "                    num_workers=num_workers, pin_memory=pin_memory)\n",
    "\n",
    "    valid_loader = torch.utils.data.DataLoader(valid_dataset, \n",
    "                    batch_size=batch_size, sampler=valid_sampler, \n",
    "                    num_workers=num_workers, pin_memory=pin_memory)\n",
    "\n",
    "    return (train_loader, valid_loader)\n",
    "  \n",
    "tr_load, vl_load = get_train_valid_loader(data_dir,batch_size=batch_size, num_workers=2, random_seed=0)"
   ]
  },
  {
   "cell_type": "code",
   "execution_count": 5,
   "metadata": {
    "executionInfo": {
     "elapsed": 1527,
     "status": "ok",
     "timestamp": 1602102420945,
     "user": {
      "displayName": "August DuMont Schütte",
      "photoUrl": "",
      "userId": "15031524827232593617"
     },
     "user_tz": -120
    },
    "id": "u31Fqe6arjgb"
   },
   "outputs": [],
   "source": [
    "class CouplingBlock(nn.Module):\n",
    "    '''\n",
    "    Arguments: \n",
    "    hidden_dims = Dimensions of MLP: [dim_in, n_hidden, .. , dim_out]\n",
    "    \n",
    "    Forward Returns:\n",
    "    x = Output MLP of size [batch_size, dim_out]\n",
    "    '''\n",
    "    def __init__(self,\n",
    "                 hidden_dims,\n",
    "                 *args, **kwargs):\n",
    "        super(CouplingBlock, self).__init__()\n",
    "        self.hidden = nn.ModuleList()\n",
    "        for k in range(len(hidden_dims)-2):\n",
    "            self.hidden.append(nn.Sequential(\n",
    "                nn.Linear(hidden_dims[k], hidden_dims[k+1]),\n",
    "                nn.ReLU()))\n",
    "        self.hidden.append(nn.Linear(hidden_dims[-2], hidden_dims[-1]))\n",
    "    def forward(self, x):\n",
    "        for layer in self.hidden:\n",
    "            x  = layer(x)\n",
    "        return x\n",
    "        "
   ]
  },
  {
   "cell_type": "code",
   "execution_count": 6,
   "metadata": {
    "executionInfo": {
     "elapsed": 4647,
     "status": "ok",
     "timestamp": 1602102425527,
     "user": {
      "displayName": "August DuMont Schütte",
      "photoUrl": "",
      "userId": "15031524827232593617"
     },
     "user_tz": -120
    },
    "id": "3mXAXQ0-rqob"
   },
   "outputs": [],
   "source": [
    "class Net(nn.Module):\n",
    "    def __init__(self, input_size, num_hidden_units=1000,\n",
    "                num_hidden_layers=5, block=CouplingBlock, \n",
    "                *args, **kwargs):\n",
    "        super(Net, self).__init__()\n",
    "        dim = int(input_size//2)+int(input_size%2)\n",
    "        block_shape = [dim] + [num_hidden_units]*num_hidden_layers + [dim]\n",
    "        self.input_size = input_size\n",
    "        self.block1 = block(block_shape) \n",
    "        self.block2 = block(block_shape) \n",
    "        self.block3 = block(block_shape)\n",
    "        self.block4 = block(block_shape)\n",
    "        self.final_layer = nn.Parameter(torch.zeros((1, input_size)), requires_grad=True)\n",
    "        #self.scaling = scaling(input_size)\n",
    "        if torch.cuda.is_available():  \n",
    "          dev = \"cuda:0\" \n",
    "        else:  \n",
    "          dev = \"cpu\" \n",
    "        self.device = torch.device(dev)\n",
    "\n",
    "    def idx_ev(self,z):\n",
    "        return(torch.tensor([True,False]*int(z.shape[1]//2)+[True]*int(z.shape[1]%2)).reshape(1,z.shape[1]).repeat(z.shape[0],1)).to(self.device)\n",
    "    def idx_od(self,z):\n",
    "        return(torch.tensor([False,True]*int(z.shape[1]//2)+[False]*int(z.shape[1]%2)).reshape(1,z.shape[1]).repeat(z.shape[0],1)).to(self.device)\n",
    "    def split_vector(self, x, coeff=0):\n",
    "        BS, DIM = x.shape[0], x.shape[1]\n",
    "        x = x.reshape(BS,DIM//2,2)\n",
    "        if coeff:\n",
    "          return x[:,:,0], x[:,:,1]\n",
    "        else:\n",
    "          return x[:,:,1], x[:,:,0]\n",
    "\n",
    "    def split_and_pass(self, x, block, coeff=0, forward=True):\n",
    "        BS, DIM = x.shape[0], x.shape[1]\n",
    "        split_0, split_1 = self.split_vector(x, coeff=coeff)\n",
    "        split_block = block(split_1)\n",
    "        if forward:\n",
    "          split_0_shift = split_0 + split_block\n",
    "        else:\n",
    "          split_0_shift = split_0 - split_block\n",
    "        \n",
    "        if coeff:\n",
    "          return(torch.stack((split_0,split_1), axis=2).reshape(BS,DIM))\n",
    "        else:\n",
    "          return(torch.stack((split_1,split_0), axis=2).reshape(BS,DIM))\n",
    "    '''\n",
    "    def x_to_z(self,x):\n",
    "        h1 = self.split_and_pass(x,block=self.block1,coeff=0,forward=True)\n",
    "        h2 = self.split_and_pass(h1,block=self.block2,coeff=1,forward=True)\n",
    "        h3 = self.split_and_pass(h2,block=self.block3,coeff=0,forward=True)\n",
    "        h4 = self.split_and_pass(h3,block=self.block4,coeff=1,forward=True)\n",
    "        z   = h4*torch.exp(self.final_layer)\n",
    "        #z,ss = self.scaling(h4, reverse=False)\n",
    "        #return(z,ss)\n",
    "        return(z)\n",
    "    def z_to_x(self,z):\n",
    "        h4 = z*torch.exp(-self.final_layer)\n",
    "        #h4, ss = self.scaling(z, reverse=True)\n",
    "        h3 = self.split_and_pass(h4,block=self.block4,coeff=1,forward=False)\n",
    "        h2 = self.split_and_pass(h3,block=self.block3,coeff=0,forward=False)\n",
    "        h1 = self.split_and_pass(h2,block=self.block2,coeff=1,forward=False)\n",
    "        x  = self.split_and_pass(h1,block=self.block1,coeff=0,forward=False)\n",
    "        return(x)\n",
    "    '''\n",
    "    def x_to_z(self,x):\n",
    "\n",
    "        #h_1[odd] = x[odd]\n",
    "        #h_1[eve] = x[even] + block(x[odd])\n",
    "        x.masked_scatter_(self.idx_ev(x),x[self.idx_ev(x)].view(batch_size,-1)+self.block1.forward(x[self.idx_od(x)].view(batch_size,-1))) \n",
    "        \n",
    "        #h_2[even] = h_1[even]\n",
    "        #h_2[odd]  = h_1[odd] + block(x[even])\n",
    "        x.masked_scatter_(self.idx_od(x),x[self.idx_od(x)].view(batch_size,-1)+self.block2.forward(x[self.idx_ev(x)].view(batch_size,-1))) \n",
    "        \n",
    "        #h_3[odd]  = h_2[odd]\n",
    "        #h_3[even] = h_1[even] + block(x[odd])\n",
    "        x.masked_scatter_(self.idx_ev(x),x[self.idx_ev(x)].view(batch_size,-1)+self.block3.forward(x[self.idx_od(x)].view(batch_size,-1))) \n",
    "    \n",
    "        #h_4[even] = h_3[even]\n",
    "        #h_4[odd]  = h_3[odd]  + block(x[even])\n",
    "        x.masked_scatter_(self.idx_od(x),x[self.idx_od(x)].view(batch_size,-1)+self.block4.forward(x[self.idx_ev(x)].view(batch_size,-1))) \n",
    "      \n",
    "        #h = exp(s)*h_4\n",
    "        h = x*torch.exp(self.final_layer)\n",
    "        return h#, self.final_layer\n",
    "\n",
    "    def z_to_x(self,h):\n",
    "        batch_size=h.shape[0]\n",
    "        #reverse h=f(x) --> x=g(h) | g=f^-1\n",
    "        h = h * torch.exp(-self.final_layer)\n",
    "        h.masked_scatter_(self.idx_od(h),h[self.idx_od(h)].view(batch_size,-1)-self.block4.forward(h[self.idx_ev(h)].view(batch_size,-1)))\n",
    "        h.masked_scatter_(self.idx_ev(h),h[self.idx_ev(h)].view(batch_size,-1)-self.block3.forward(h[self.idx_od(h)].view(batch_size,-1)))\n",
    "        h.masked_scatter_(self.idx_od(h),h[self.idx_od(h)].view(batch_size,-1)-self.block2.forward(h[self.idx_ev(h)].view(batch_size,-1)))\n",
    "        h.masked_scatter_(self.idx_ev(h),h[self.idx_ev(h)].view(batch_size,-1)-self.block1.forward(h[self.idx_od(h)].view(batch_size,-1)))\n",
    "        return h\n",
    "\n",
    "    def compute_loss(self, x):\n",
    "        #x: [BS,D], s: [D]\n",
    "        #h, s = self.f_g(x)\n",
    "        #J = torch.sum(-torch.log(1+torch.exp(h)) - torch.log(1+torch.exp(-h)), axis=1) + torch.sum(s)\n",
    "        #J = -(F.softplus(x) + F.softplus(-x))\n",
    "        #if self.reduce_batch:\n",
    "        #    J = torch.mean(J)\n",
    "        #return -J\n",
    "        return -(F.softplus(x) + F.softplus(-x))\n",
    "    \n",
    "    def forward(self,x):\n",
    "        #z,ss   = self.x_to_z(x)\n",
    "        z   = self.x_to_z(x)\n",
    "        J_z = torch.sum(self.compute_loss(z),axis=1)\n",
    "        J_s = torch.sum(self.final_layer)\n",
    "        #return -(J_z+ss).mean()\n",
    "        return -(J_z+J_s).mean()\n",
    "    \n",
    "    def sample_x(self,num):\n",
    "        shape  = [num, self.input_size]\n",
    "        z_unif = torch.distributions.Uniform(0., 1.).sample(shape).to(self.device)\n",
    "        z = torch.log(z_unif) - torch.log(1. - z_unif)\n",
    "        x = self.z_to_x(z)\n",
    "        return x\n",
    "\n",
    "\n",
    "\n",
    "if torch.cuda.is_available():  \n",
    "  dev = \"cuda:0\" \n",
    "else:  \n",
    "  dev = \"cpu\"  \n",
    "device = torch.device(dev) \n",
    "model = Net(input_size=input_dimension, num_hidden_units=1000, num_hidden_layers=5).to(device)\n",
    "#summary(model, (784,))\n"
   ]
  },
  {
   "cell_type": "code",
   "execution_count": 7,
   "metadata": {
    "executionInfo": {
     "elapsed": 940,
     "status": "ok",
     "timestamp": 1602102434032,
     "user": {
      "displayName": "August DuMont Schütte",
      "photoUrl": "",
      "userId": "15031524827232593617"
     },
     "user_tz": -120
    },
    "id": "-sdd_OleBGNq"
   },
   "outputs": [],
   "source": [
    "def dequantize(x, dataset=\"mnist\"):\n",
    "    noise = torch.distributions.Uniform(0., 1.).sample(x.size())\n",
    "    return (x * 255. + noise) / 256.\n",
    "\n",
    "def prepare_data(x, dataset, zca=None, mean=None, reverse=False):\n",
    "    if reverse:\n",
    "        assert len(list(x.size())) == 2\n",
    "        [B, W] = list(x.size())\n",
    "\n",
    "        if dataset in ['mnist', 'fashion-mnist']:\n",
    "            assert W == 1 * 28 * 28\n",
    "            x += mean\n",
    "            x = x.reshape((B, 1, 28, 28))\n",
    "    else:\n",
    "        assert len(list(x.size())) == 4\n",
    "        [B, C, H, W] = list(x.size())\n",
    "\n",
    "        if dataset in ['mnist', 'fashion-mnist']:\n",
    "            assert [C, H, W] == [1, 28, 28]\n",
    "\n",
    "        x = dequantize(x, dataset)\n",
    "        x = x.reshape((B, C*H*W))\n",
    "\n",
    "        if dataset in ['mnist', 'fashion-mnist']:\n",
    "            x -= mean\n",
    "    return x"
   ]
  },
  {
   "cell_type": "code",
   "execution_count": 8,
   "metadata": {
    "executionInfo": {
     "elapsed": 848,
     "status": "ok",
     "timestamp": 1602102436780,
     "user": {
      "displayName": "August DuMont Schütte",
      "photoUrl": "",
      "userId": "15031524827232593617"
     },
     "user_tz": -120
    },
    "id": "EXs6_dnIrrBu"
   },
   "outputs": [],
   "source": [
    "optimizer = torch.optim.Adam(params=model.parameters(),lr=1e-3,betas=(0.9, 0.999),eps=1e-4)\n",
    "mean = torch.load(\"./gdrive/My Drive/coding_projects/data/MNIST/mnist_mean.pt\")\n"
   ]
  },
  {
   "cell_type": "code",
   "execution_count": 9,
   "metadata": {
    "colab": {
     "base_uri": "https://localhost:8080/"
    },
    "executionInfo": {
     "elapsed": 732311,
     "status": "ok",
     "timestamp": 1602103175643,
     "user": {
      "displayName": "August DuMont Schütte",
      "photoUrl": "",
      "userId": "15031524827232593617"
     },
     "user_tz": -120
    },
    "id": "010duBSUr2-F",
    "outputId": "dc507264-abeb-4d26-fb3e-a18b435ad24c"
   },
   "outputs": [
    {
     "name": "stdout",
     "output_type": "stream",
     "text": [
      "Epoch 0 ---> Running Loss Average: 978.944\n",
      "Epoch 5 ---> Running Loss Average: -123.063\n",
      "Epoch 10 ---> Running Loss Average: -950.475\n",
      "Epoch 15 ---> Running Loss Average: -1477.073\n",
      "Epoch 20 ---> Running Loss Average: -1813.250\n",
      "Epoch 25 ---> Running Loss Average: -1964.977\n",
      "Epoch 30 ---> Running Loss Average: -2010.166\n",
      "Epoch 35 ---> Running Loss Average: -2033.682\n",
      "Epoch 40 ---> Running Loss Average: -2048.297\n",
      "Epoch 45 ---> Running Loss Average: -2062.508\n",
      "Epoch 50 ---> Running Loss Average: -2071.620\n",
      "Epoch 55 ---> Running Loss Average: -2079.969\n",
      "Epoch 60 ---> Running Loss Average: -2086.790\n",
      "Epoch 65 ---> Running Loss Average: -2091.423\n",
      "Epoch 70 ---> Running Loss Average: -2097.223\n",
      "Epoch 75 ---> Running Loss Average: -2101.624\n"
     ]
    }
   ],
   "source": [
    "epochs = 80\n",
    "for epoch in range(epochs):  # loop over the dataset multiple times\n",
    "    running_loss = 0.0\n",
    "    for i, data in enumerate(tr_load, 1):\n",
    "        model.train()\n",
    "        optimizer.zero_grad()\n",
    "        inputs_raw,_ = data\n",
    "        inputs = prepare_data(inputs_raw, dataset=\"mnist\", zca=None, mean=mean).to(device)\n",
    "        loss = model(inputs)\n",
    "        loss.backward()\n",
    "        optimizer.step()\n",
    "        running_loss += loss.item()\n",
    "    # print running loss\n",
    "    if epoch % 5 == 0:\n",
    "        print('Epoch %d ---> Running Loss Average: %.3f' % (epoch, running_loss / np.float(i)))\n",
    "        running_loss = 0.0\n",
    "\n"
   ]
  },
  {
   "cell_type": "code",
   "execution_count": 10,
   "metadata": {
    "executionInfo": {
     "elapsed": 1287,
     "status": "ok",
     "timestamp": 1602103178885,
     "user": {
      "displayName": "August DuMont Schütte",
      "photoUrl": "",
      "userId": "15031524827232593617"
     },
     "user_tz": -120
    },
    "id": "TiWtejfP-pNR"
   },
   "outputs": [],
   "source": [
    "sample_size = 200\n",
    "model.eval()\n",
    "with torch.no_grad():\n",
    "    inputs_raw,_ = data\n",
    "    inputs = prepare_data(inputs_raw, dataset=\"mnist\", zca=None, mean=mean).to(device)\n",
    "    z = model.x_to_z(inputs)\n",
    "    reconst = model.z_to_x(z)\n",
    "    samples = model.sample_x(sample_size)\n"
   ]
  },
  {
   "cell_type": "code",
   "execution_count": 15,
   "metadata": {
    "colab": {
     "base_uri": "https://localhost:8080/",
     "height": 1000
    },
    "executionInfo": {
     "elapsed": 1475,
     "status": "ok",
     "timestamp": 1602103334960,
     "user": {
      "displayName": "August DuMont Schütte",
      "photoUrl": "",
      "userId": "15031524827232593617"
     },
     "user_tz": -120
    },
    "id": "aiijvApDv-cx",
    "outputId": "fb0df3c2-5dfb-4b05-e54e-fc7dbb8177f9"
   },
   "outputs": [
    {
     "data": {
      "text/plain": [
       "<matplotlib.image.AxesImage at 0x7fcb213e1ef0>"
      ]
     },
     "execution_count": 15,
     "metadata": {
      "tags": []
     },
     "output_type": "execute_result"
    },
    {
     "data": {
      "image/png": "[encoded data removed]",
      "text/plain": [
       "<Figure size 432x288 with 1 Axes>"
      ]
     },
     "metadata": {
      "needs_background": "light",
      "tags": []
     },
     "output_type": "display_data"
    },
    {
     "data": {
      "image/png": "[encoded data removed]",
      "text/plain": [
       "<Figure size 432x288 with 1 Axes>"
      ]
     },
     "metadata": {
      "needs_background": "light",
      "tags": []
     },
     "output_type": "display_data"
    },
    {
     "data": {
      "image/png": "[encoded data removed]",
      "text/plain": [
       "<Figure size 432x288 with 1 Axes>"
      ]
     },
     "metadata": {
      "needs_background": "light",
      "tags": []
     },
     "output_type": "display_data"
    },
    {
     "data": {
      "image/png": "[encoded data removed]",
      "text/plain": [
       "<Figure size 432x288 with 1 Axes>"
      ]
     },
     "metadata": {
      "needs_background": "light",
      "tags": []
     },
     "output_type": "display_data"
    },
    {
     "data": {
      "image/png": "[encoded data removed]",
      "text/plain": [
       "<Figure size 432x288 with 1 Axes>"
      ]
     },
     "metadata": {
      "needs_background": "light",
      "tags": []
     },
     "output_type": "display_data"
    }
   ],
   "source": [
    "# plot inputs_raw\n",
    "idx_ = 100\n",
    "plt.figure()\n",
    "plt.imshow(inputs_raw[idx_].reshape(28,28))\n",
    "\n",
    "# plot inputs\n",
    "plt.figure()\n",
    "plt.imshow(inputs.reshape((batch_size,1,28,28)).cpu().detach().numpy()[idx_,0,:,:]) \n",
    "\n",
    "# plot reconstruction \n",
    "plt.figure()\n",
    "plt.imshow(reconst.reshape((batch_size,1,28,28)).cpu().detach().numpy()[idx_,0,:,:]) \n",
    "\n",
    "# plot sample \n",
    "plt.figure()\n",
    "plt.imshow(samples.reshape((sample_size,1,28,28)).cpu().detach().numpy()[idx_,0,:,:]) \n",
    "\n",
    "# plot samples after prepare \n",
    "samples_prep = prepare_data(samples.cpu(), dataset=\"mnist\", zca=None, mean=mean, reverse=True)\n",
    "plt.figure()\n",
    "plt.imshow(samples_prep.reshape((sample_size,1,28,28)).cpu().detach().numpy()[idx_,0,:,:]) \n"
   ]
  },
  {
   "cell_type": "code",
   "execution_count": null,
   "metadata": {
    "id": "9nG_mFjOyn1d"
   },
   "outputs": [],
   "source": []
  }
 ],
 "metadata": {
  "accelerator": "GPU",
  "colab": {
   "authorship_tag": "ABX9TyPM3lCKqt6bQCVDp0QwLroR",
   "collapsed_sections": [],
   "name": "nice-impl.ipynb",
   "provenance": []
  },
  "kernelspec": {
   "display_name": "Python 3",
   "language": "python",
   "name": "python3"
  },
  "language_info": {
   "codemirror_mode": {
    "name": "ipython",
    "version": 3
   },
   "file_extension": ".py",
   "mimetype": "text/x-python",
   "name": "python",
   "nbconvert_exporter": "python",
   "pygments_lexer": "ipython3",
   "version": "3.6.7"
  }
 },
 "nbformat": 4,
 "nbformat_minor": 1
}
